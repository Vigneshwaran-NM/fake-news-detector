{
 "cells": [
  {
   "cell_type": "code",
   "execution_count": 3,
   "id": "3d62214a-ba15-46e5-a517-6477451827d1",
   "metadata": {},
   "outputs": [],
   "source": [
    "import pandas as pd\n",
    "import numpy as np\n",
    "import nltk\n",
    "import string\n",
    "import re\n",
    "from sklearn.utils import shuffle\n",
    "from nltk.corpus import stopwords"
   ]
  },
  {
   "cell_type": "code",
   "execution_count": 5,
   "id": "eaf96659-bf71-4802-8183-e2b4866de22a",
   "metadata": {},
   "outputs": [
    {
     "name": "stderr",
     "output_type": "stream",
     "text": [
      "[nltk_data] Downloading package stopwords to C:\\Users\\Vignesh\n",
      "[nltk_data]     NM\\AppData\\Roaming\\nltk_data...\n",
      "[nltk_data]   Package stopwords is already up-to-date!\n"
     ]
    }
   ],
   "source": [
    "# Download stopwords if not already\n",
    "nltk.download('stopwords')\n",
    "stop_words = set(stopwords.words('english'))"
   ]
  },
  {
   "cell_type": "code",
   "execution_count": 6,
   "id": "fea1b746-07f9-4fca-b158-5aab5601dc40",
   "metadata": {},
   "outputs": [],
   "source": [
    "fake = pd.read_csv('../data/fake.csv')\n",
    "real = pd.read_csv('../data/true.csv')"
   ]
  },
  {
   "cell_type": "code",
   "execution_count": 7,
   "id": "659ef155-32df-4303-86d4-b40cfd6f3de9",
   "metadata": {},
   "outputs": [],
   "source": [
    "fake['label'] = 1\n",
    "real['label'] = 0"
   ]
  },
  {
   "cell_type": "code",
   "execution_count": 8,
   "id": "2b43a092-6d55-44f8-87ff-656cbb609bda",
   "metadata": {},
   "outputs": [],
   "source": [
    "df = pd.concat([fake, real], axis=0)\n",
    "df = shuffle(df).reset_index(drop=True)"
   ]
  },
  {
   "cell_type": "code",
   "execution_count": 9,
   "id": "bb43886c-b8cc-49f9-a4a2-f50be75c050d",
   "metadata": {},
   "outputs": [],
   "source": [
    "df['content'] = df['title'] + ' ' + df['text']"
   ]
  },
  {
   "cell_type": "code",
   "execution_count": 10,
   "id": "dd47cbfa-f46b-44fc-8b15-557595d6a352",
   "metadata": {},
   "outputs": [],
   "source": [
    "df.dropna(subset=['content'], inplace=True)"
   ]
  },
  {
   "cell_type": "code",
   "execution_count": 11,
   "id": "f5308a78-1785-4d84-8595-dda9b7370d40",
   "metadata": {},
   "outputs": [],
   "source": [
    "def clean_text(text):\n",
    "    text = text.lower()\n",
    "    text = re.sub(r\"http\\S+\", \"\", text)  # remove links\n",
    "    text = re.sub(r\"@\\w+|#\\w+\", \"\", text)  # remove mentions/hashtags\n",
    "    text = re.sub(r\"[^\\w\\s]\", \"\", text)  # remove punctuation\n",
    "    text = \" \".join(word for word in text.split() if word not in stop_words)\n",
    "    return text"
   ]
  },
  {
   "cell_type": "code",
   "execution_count": 12,
   "id": "c93d8deb-4b85-42f4-81be-98c3f084214e",
   "metadata": {},
   "outputs": [],
   "source": [
    "df['cleaned_content'] = df['content'].apply(clean_text)"
   ]
  },
  {
   "cell_type": "code",
   "execution_count": 13,
   "id": "43f95f64-fed9-44f2-9995-31df1b79dd86",
   "metadata": {},
   "outputs": [],
   "source": [
    "df[['cleaned_content', 'label']].to_csv('../data/processed_news.csv', index=False)"
   ]
  },
  {
   "cell_type": "code",
   "execution_count": 14,
   "id": "c3fcefb5-5a76-4456-a8e3-5d5e98d4ec9e",
   "metadata": {},
   "outputs": [
    {
     "name": "stdout",
     "output_type": "stream",
     "text": [
      "✅ Preprocessing complete! Processed data saved to data/processed_news.csv\n"
     ]
    }
   ],
   "source": [
    "print(\"✅ Preprocessing complete! Processed data saved to data/processed_news.csv\")"
   ]
  },
  {
   "cell_type": "code",
   "execution_count": null,
   "id": "bbcb80b8-b08f-44db-90be-136767c3c0d3",
   "metadata": {},
   "outputs": [],
   "source": []
  }
 ],
 "metadata": {
  "kernelspec": {
   "display_name": "Python 3 (ipykernel)",
   "language": "python",
   "name": "python3"
  },
  "language_info": {
   "codemirror_mode": {
    "name": "ipython",
    "version": 3
   },
   "file_extension": ".py",
   "mimetype": "text/x-python",
   "name": "python",
   "nbconvert_exporter": "python",
   "pygments_lexer": "ipython3",
   "version": "3.13.5"
  }
 },
 "nbformat": 4,
 "nbformat_minor": 5
}
